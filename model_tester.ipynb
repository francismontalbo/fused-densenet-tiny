{
 "cells": [
  {
   "cell_type": "markdown",
   "metadata": {},
   "source": [
    "<h1>MODEL TESTER</h1>\n",
    "<p>This notebook can test samples of chest x-rays using the trained Fused-DenseNet-Tiny model</p>"
   ]
  },
  {
   "cell_type": "code",
   "execution_count": null,
   "metadata": {},
   "outputs": [],
   "source": [
    "#LOAD THE DEPENDENCIES\n",
    "import os\n",
    "import logging\n",
    "import numpy as np\n",
    "import tensorflow as tf\n",
    "import matplotlib.pyplot as plt\n",
    "\n",
    "from keras import backend as K\n",
    "from keras.models import load_model\n",
    "from keras.preprocessing import image\n",
    "from keras.applications.densenet import preprocess_input\n",
    "\n",
    "#PREVENTS UNWANTED PROMPTS\n",
    "tf.get_logger().setLevel(logging.ERROR)\n",
    "os.environ['TF_CPP_MIN_LOG_LEVEL'] = '3'"
   ]
  },
  {
   "cell_type": "code",
   "execution_count": null,
   "metadata": {},
   "outputs": [],
   "source": [
    "#LOAD THE TRAINED MODEL\n",
    "\n",
    "model = load_model(\"weights/fused_densenet_tiny.h5\") \n",
    "print(\"FUSED-DENSENET-TINY INITIALIZED!\")\n",
    "print(\"The model consist of \", len(model.layers), \"layers\")"
   ]
  },
  {
   "cell_type": "code",
   "execution_count": null,
   "metadata": {},
   "outputs": [],
   "source": [
    "#CHOOSE ANY IMAGE FROM YOUR TEST DATASET\n",
    "img_path = 'test/Pneumonia-Viral (797).jpg' #YOU CAN CHANGE THIS"
   ]
  },
  {
   "cell_type": "code",
   "execution_count": null,
   "metadata": {},
   "outputs": [],
   "source": [
    "#PREPARE THE DATA INPUT\n",
    "\n",
    "img_width, img_height = 224, 224\n",
    "\n",
    "img1 = image.load_img(img_path)\n",
    "plt.imshow(img1);\n",
    "\n",
    "img = image.load_img(img_path, target_size=(img_width, img_height))\n",
    "\n",
    "x = image.img_to_array(img)\n",
    "x = np.expand_dims(x, axis=0)\n",
    "x = preprocess_input(x)\n",
    "\n",
    "print(\"Image successfully loaded for diagnosis\")"
   ]
  },
  {
   "cell_type": "code",
   "execution_count": null,
   "metadata": {},
   "outputs": [],
   "source": [
    "#PREPARE THE FUSED-DENSENET-TINY FOR TESTING\n",
    "\n",
    "def fused_densenet_tiny(x, model):\n",
    "    \n",
    "    conf = model.predict(x)\n",
    "    conf_score = max(100 * conf[0])\n",
    "    \n",
    "    predictions = model.predict(x).argmax()   \n",
    "    plt.imshow(img)\n",
    "    \n",
    "    if predictions == 2:\n",
    "        print(\"The X-Ray was diagnosed to potentially have have Pneumonia.\")\n",
    "        print(\"The confidence of the model is roughly\", conf_score,\"%.\")\n",
    "        print()\n",
    "        print(\"Further test and observation is required.\")\n",
    "       \n",
    "    elif predictions == 1:\n",
    "        print(\"he X-Ray was diagnosed to potentially have COVID-19.\")\n",
    "        print(\"The confidence of the model is roughly\", conf_score,\"%.\")\n",
    "        print()\n",
    "        print(\"Further test and observation is required.\")\n",
    "        \n",
    "    else:\n",
    "        print(\"The X-Ray seems to be Normal without signs of COVID-19 or Pneumonia infections.\")\n",
    "        print(\"The confidence of the model is roughly\", conf_score,\"%.\")\n",
    "        print()\n",
    "        print(\"The patient may still consult for further test to be sure.\")"
   ]
  },
  {
   "cell_type": "code",
   "execution_count": null,
   "metadata": {},
   "outputs": [],
   "source": [
    "#DIAGNOSE THE INPUT IMAGE WITH THE FUSED-DENSENET-TINY\n",
    "\n",
    "fused_densenet_tiny(x, model)"
   ]
  }
 ],
 "metadata": {
  "kernelspec": {
   "display_name": "Python 3",
   "language": "python",
   "name": "python3"
  },
  "language_info": {
   "codemirror_mode": {
    "name": "ipython",
    "version": 3
   },
   "file_extension": ".py",
   "mimetype": "text/x-python",
   "name": "python",
   "nbconvert_exporter": "python",
   "pygments_lexer": "ipython3",
   "version": "3.5.5"
  }
 },
 "nbformat": 4,
 "nbformat_minor": 4
}
